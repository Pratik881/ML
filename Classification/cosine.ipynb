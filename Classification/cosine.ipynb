{
 "cells": [
  {
   "cell_type": "code",
   "execution_count": 52,
   "metadata": {},
   "outputs": [],
   "source": [
    "import pandas as pd\n",
    "import numpy as np"
   ]
  },
  {
   "cell_type": "code",
   "execution_count": 53,
   "metadata": {},
   "outputs": [],
   "source": [
    "data = {\n",
    "    'movie': ['Movie A', 'Movie B', 'Movie C', 'Movie D'],\n",
    "    'Action': [1, 0, 1, 1],\n",
    "    'Comedy': [0, 1, 1, 0],\n",
    "    'Drama': [1, 1, 0, 1]\n",
    "}\n",
    "df = pd.DataFrame(data)"
   ]
  },
  {
   "cell_type": "code",
   "execution_count": 54,
   "metadata": {},
   "outputs": [
    {
     "name": "stdout",
     "output_type": "stream",
     "text": [
      "     movie  Action  Comedy  Drama\n",
      "0  Movie A       1       0      1\n",
      "1  Movie B       0       1      1\n",
      "2  Movie C       1       1      0\n",
      "3  Movie D       1       0      1\n"
     ]
    }
   ],
   "source": [
    "print(df)"
   ]
  },
  {
   "cell_type": "code",
   "execution_count": 55,
   "metadata": {},
   "outputs": [],
   "source": [
    "features=df[['Action','Comedy','Drama']].values"
   ]
  },
  {
   "cell_type": "code",
   "execution_count": 56,
   "metadata": {},
   "outputs": [
    {
     "name": "stdout",
     "output_type": "stream",
     "text": [
      "[[1 0 1]\n",
      " [0 1 1]\n",
      " [1 1 0]\n",
      " [1 0 1]]\n",
      "<class 'numpy.ndarray'>\n",
      "(4, 3)\n"
     ]
    }
   ],
   "source": [
    "print(features)\n",
    "print(type(features))\n",
    "print(features.shape)"
   ]
  },
  {
   "cell_type": "code",
   "execution_count": 57,
   "metadata": {},
   "outputs": [
    {
     "data": {
      "text/plain": [
       "array([1, 0, 1], dtype=int64)"
      ]
     },
     "execution_count": 57,
     "metadata": {},
     "output_type": "execute_result"
    }
   ],
   "source": [
    "features[0]"
   ]
  },
  {
   "cell_type": "code",
   "execution_count": 58,
   "metadata": {},
   "outputs": [],
   "source": [
    "def cosine_similarity(v1,v2):\n",
    "    dot_product=np.dot(v1,v2)\n",
    "    norm_v1=np.linalg.norm(v1)\n",
    "    norm_v2=np.linalg.norm(v2)\n",
    "    result= dot_product/(norm_v1*norm_v2)\n",
    "    return result\n"
   ]
  },
  {
   "cell_type": "code",
   "execution_count": 59,
   "metadata": {},
   "outputs": [],
   "source": [
    "def compute_cosine(features):\n",
    "    num_items=features.shape[0]\n",
    "    similarity_matrix=np.zeros((num_items,num_items))\n",
    "    for i in range(num_items):\n",
    "        for j in range(num_items):\n",
    "            similarity_matrix[i,j]=cosine_similarity(features[i],features[j])\n",
    "\n",
    "    return similarity_matrix        "
   ]
  },
  {
   "cell_type": "code",
   "execution_count": 60,
   "metadata": {},
   "outputs": [
    {
     "name": "stdout",
     "output_type": "stream",
     "text": [
      "[[1.  0.5 0.5 1. ]\n",
      " [0.5 1.  0.5 0.5]\n",
      " [0.5 0.5 1.  0.5]\n",
      " [1.  0.5 0.5 1. ]]\n"
     ]
    }
   ],
   "source": [
    "cosine_sim_matrix=compute_cosine(features)\n",
    "print(cosine_sim_matrix)"
   ]
  },
  {
   "cell_type": "code",
   "execution_count": 61,
   "metadata": {},
   "outputs": [
    {
     "name": "stdout",
     "output_type": "stream",
     "text": [
      "Cosine Similarity Matrix:\n",
      " movie    Movie A  Movie B  Movie C  Movie D\n",
      "movie                                      \n",
      "Movie A      1.0      0.5      0.5      1.0\n",
      "Movie B      0.5      1.0      0.5      0.5\n",
      "Movie C      0.5      0.5      1.0      0.5\n",
      "Movie D      1.0      0.5      0.5      1.0\n"
     ]
    }
   ],
   "source": [
    "cosine_sim_df = pd.DataFrame(cosine_sim_matrix, index=df['movie'], columns=df['movie'])\n",
    "print(\"Cosine Similarity Matrix:\\n\", cosine_sim_df)"
   ]
  },
  {
   "cell_type": "code",
   "execution_count": 62,
   "metadata": {},
   "outputs": [
    {
     "name": "stdout",
     "output_type": "stream",
     "text": [
      "movie\n",
      "Movie A    1.0\n",
      "Movie B    0.5\n",
      "Movie C    0.5\n",
      "Movie D    1.0\n",
      "Name: Movie A, dtype: float64\n",
      "-------\n",
      "movie\n",
      "Movie A    1.0\n",
      "Movie D    1.0\n",
      "Movie B    0.5\n",
      "Movie C    0.5\n",
      "Name: Movie A, dtype: float64\n",
      "-------\n",
      "['Movie D', 'Movie B']\n",
      "Recommended Movies for 'Movie A': Index(['Movie D', 'Movie B'], dtype='object', name='movie')\n"
     ]
    }
   ],
   "source": [
    "def recommmend_movie(movie_name,similarity_matrix,recommend=2):\n",
    "    similar_scores=similarity_matrix.loc[movie_name]\n",
    "    print(similar_scores)\n",
    "    print('-------')\n",
    "    sorted_movies=similar_scores.sort_values(ascending=False)\n",
    "    print(sorted_movies)\n",
    "    print('-------')\n",
    "    recommedations=sorted_movies.index[1:recommend+1]\n",
    "    print(recommedations.tolist())\n",
    "    return recommedations\n",
    "recommend_movies=recommmend_movie('Movie A',cosine_sim_df)\n",
    "print(\"Recommended Movies for 'Movie A':\", recommend_movies)"
   ]
  },
  {
   "cell_type": "code",
   "execution_count": null,
   "metadata": {},
   "outputs": [],
   "source": []
  },
  {
   "cell_type": "code",
   "execution_count": null,
   "metadata": {},
   "outputs": [],
   "source": []
  },
  {
   "cell_type": "code",
   "execution_count": null,
   "metadata": {},
   "outputs": [],
   "source": []
  }
 ],
 "metadata": {
  "kernelspec": {
   "display_name": "Python 3",
   "language": "python",
   "name": "python3"
  },
  "language_info": {
   "codemirror_mode": {
    "name": "ipython",
    "version": 3
   },
   "file_extension": ".py",
   "mimetype": "text/x-python",
   "name": "python",
   "nbconvert_exporter": "python",
   "pygments_lexer": "ipython3",
   "version": "3.12.3"
  }
 },
 "nbformat": 4,
 "nbformat_minor": 2
}
