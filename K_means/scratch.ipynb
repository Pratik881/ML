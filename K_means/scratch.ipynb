data_points=[1,2,3,4,5,9,100]
labels=[1,2,4,80]
for item in data_points:
    labelled_list=[]
    for element in labels:
        distance_min_label=abs(item-element)
        labelled_list.append(distance_min_label)
    #print(labelled_list)
    minimum_element_of_labelled_list=min(labelled_list)  
    #print(minimum_element_of_labelled_list)
    label=labelled_list.index(minimum_element_of_labelled_list)
   # print(f"{minimum_element_of_labelled_list} in index {label}")
    print(f"{item} belongs to label {labels[label]}")
            

        
